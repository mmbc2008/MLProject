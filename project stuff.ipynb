{
 "cells": [
  {
   "cell_type": "code",
   "execution_count": 1,
   "id": "de99a902-2f95-4c1e-9469-dd4fdf226d5a",
   "metadata": {},
   "outputs": [],
   "source": [
    "import pandas as pd"
   ]
  },
  {
   "cell_type": "code",
   "execution_count": 2,
   "id": "3e45305f-46a6-4b83-a082-fe7e241f4225",
   "metadata": {},
   "outputs": [],
   "source": [
    "training = pd.read_csv('train.csv')"
   ]
  },
  {
   "cell_type": "code",
   "execution_count": 3,
   "id": "1a75da27-1195-4020-b9e7-9c3e16e1d0cb",
   "metadata": {},
   "outputs": [
    {
     "name": "stdout",
     "output_type": "stream",
     "text": [
      "PassengerId\n",
      "HomePlanet\n",
      "CryoSleep\n",
      "Cabin\n",
      "Destination\n",
      "Age\n",
      "VIP\n",
      "RoomService\n",
      "FoodCourt\n",
      "ShoppingMall\n",
      "Spa\n",
      "VRDeck\n",
      "Name\n",
      "Transported\n"
     ]
    }
   ],
   "source": [
    "for col in training.columns:\n",
    "    print(col)"
   ]
  },
  {
   "cell_type": "code",
   "execution_count": 4,
   "id": "3833f6a1-90d8-4a81-97c5-956c29d7b46b",
   "metadata": {},
   "outputs": [],
   "source": [
    "del training['Name']"
   ]
  },
  {
   "cell_type": "code",
   "execution_count": 5,
   "id": "3f18df43-44a3-4382-8555-4577f037e07c",
   "metadata": {},
   "outputs": [
    {
     "name": "stdout",
     "output_type": "stream",
     "text": [
      "PassengerId\n",
      "HomePlanet\n",
      "CryoSleep\n",
      "Cabin\n",
      "Destination\n",
      "Age\n",
      "VIP\n",
      "RoomService\n",
      "FoodCourt\n",
      "ShoppingMall\n",
      "Spa\n",
      "VRDeck\n",
      "Transported\n"
     ]
    }
   ],
   "source": [
    "for col in training.columns:\n",
    "    print(col)"
   ]
  },
  {
   "cell_type": "code",
   "execution_count": 6,
   "id": "bd4a76db-dbe1-4d7e-94a0-88215ff8d501",
   "metadata": {},
   "outputs": [
    {
     "name": "stderr",
     "output_type": "stream",
     "text": [
      "C:\\Users\\liam0\\AppData\\Local\\Temp/ipykernel_16740/617400973.py:4: SettingWithCopyWarning: \n",
      "A value is trying to be set on a copy of a slice from a DataFrame\n",
      "\n",
      "See the caveats in the documentation: https://pandas.pydata.org/pandas-docs/stable/user_guide/indexing.html#returning-a-view-versus-a-copy\n",
      "  training['PassengerId'][i] = groupID\n"
     ]
    }
   ],
   "source": [
    "for i in range(len(training['PassengerId'])):\n",
    "    fullID = str(training['PassengerId'][i])\n",
    "    groupID = fullID[0:4]\n",
    "    training['PassengerId'][i] = groupID"
   ]
  },
  {
   "cell_type": "code",
   "execution_count": 7,
   "id": "aeb28f91-e0be-4afe-a6c4-c69d9d26fa45",
   "metadata": {},
   "outputs": [],
   "source": [
    "training.rename(columns = {'PassengerId':'PassengerGroup'}, inplace = True)"
   ]
  },
  {
   "cell_type": "code",
   "execution_count": 8,
   "id": "e5a29aa6-7580-4ae5-bb38-dc0679cd5bbc",
   "metadata": {},
   "outputs": [
    {
     "name": "stderr",
     "output_type": "stream",
     "text": [
      "C:\\Users\\liam0\\AppData\\Local\\Temp/ipykernel_16740/2071759079.py:7: SettingWithCopyWarning: \n",
      "A value is trying to be set on a copy of a slice from a DataFrame\n",
      "\n",
      "See the caveats in the documentation: https://pandas.pydata.org/pandas-docs/stable/user_guide/indexing.html#returning-a-view-versus-a-copy\n",
      "  training['VIP'][i] = status\n"
     ]
    }
   ],
   "source": [
    "for i in range(len(training['VIP'])):\n",
    "    status = str(training['VIP'][i])\n",
    "    if status == \"True\":\n",
    "        status = 1\n",
    "    elif status == \"False\":\n",
    "        status = 0 \n",
    "    training['VIP'][i] = status"
   ]
  },
  {
   "cell_type": "code",
   "execution_count": 9,
   "id": "96397a14-e6c6-4b09-afb1-e9f3ad0a1a8d",
   "metadata": {},
   "outputs": [
    {
     "name": "stdout",
     "output_type": "stream",
     "text": [
      "0       0\n",
      "1       0\n",
      "2       1\n",
      "3       0\n",
      "4       0\n",
      "       ..\n",
      "8688    1\n",
      "8689    0\n",
      "8690    0\n",
      "8691    0\n",
      "8692    0\n",
      "Name: VIP, Length: 8693, dtype: object\n"
     ]
    }
   ],
   "source": [
    "print(training['VIP'])"
   ]
  },
  {
   "cell_type": "code",
   "execution_count": 10,
   "id": "d52a4eaa-a5b1-4244-b8ca-eaec13402af7",
   "metadata": {},
   "outputs": [
    {
     "name": "stderr",
     "output_type": "stream",
     "text": [
      "C:\\Users\\liam0\\AppData\\Local\\Temp/ipykernel_16740/1532044696.py:7: SettingWithCopyWarning: \n",
      "A value is trying to be set on a copy of a slice from a DataFrame\n",
      "\n",
      "See the caveats in the documentation: https://pandas.pydata.org/pandas-docs/stable/user_guide/indexing.html#returning-a-view-versus-a-copy\n",
      "  training['CryoSleep'][i] = status\n"
     ]
    }
   ],
   "source": [
    "for i in range(len(training['CryoSleep'])):\n",
    "    status = str(training['CryoSleep'][i])\n",
    "    if status == \"True\":\n",
    "        status = 1\n",
    "    elif status == \"False\":\n",
    "        status = 0 \n",
    "    training['CryoSleep'][i] = status"
   ]
  },
  {
   "cell_type": "code",
   "execution_count": 11,
   "id": "0ab13cce-72ef-4535-bc14-c4a926ef7c0d",
   "metadata": {},
   "outputs": [
    {
     "name": "stderr",
     "output_type": "stream",
     "text": [
      "C:\\Users\\liam0\\AppData\\Local\\Temp/ipykernel_16740/482321403.py:7: SettingWithCopyWarning: \n",
      "A value is trying to be set on a copy of a slice from a DataFrame\n",
      "\n",
      "See the caveats in the documentation: https://pandas.pydata.org/pandas-docs/stable/user_guide/indexing.html#returning-a-view-versus-a-copy\n",
      "  training['Transported'][i] = status\n",
      "C:\\Users\\liam0\\AppData\\Local\\Packages\\PythonSoftwareFoundation.Python.3.9_qbz5n2kfra8p0\\LocalCache\\local-packages\\Python39\\site-packages\\pandas\\core\\indexing.py:1732: SettingWithCopyWarning: \n",
      "A value is trying to be set on a copy of a slice from a DataFrame\n",
      "\n",
      "See the caveats in the documentation: https://pandas.pydata.org/pandas-docs/stable/user_guide/indexing.html#returning-a-view-versus-a-copy\n",
      "  self._setitem_single_block(indexer, value, name)\n"
     ]
    }
   ],
   "source": [
    "for i in range(len(training['Transported'])):\n",
    "    status = str(training['Transported'][i])\n",
    "    if status == \"True\":\n",
    "        status = 1\n",
    "    elif status == \"False\":\n",
    "        status = -1 \n",
    "    training['Transported'][i] = status"
   ]
  },
  {
   "cell_type": "code",
   "execution_count": 12,
   "id": "109feb0f-685b-4a30-a1f7-1f143de117ce",
   "metadata": {},
   "outputs": [
    {
     "name": "stdout",
     "output_type": "stream",
     "text": [
      "0       -1\n",
      "1        1\n",
      "2       -1\n",
      "3       -1\n",
      "4        1\n",
      "        ..\n",
      "8688    -1\n",
      "8689    -1\n",
      "8690     1\n",
      "8691    -1\n",
      "8692     1\n",
      "Name: Transported, Length: 8693, dtype: object\n"
     ]
    }
   ],
   "source": [
    "print(training['Transported'])"
   ]
  },
  {
   "cell_type": "code",
   "execution_count": 13,
   "id": "099bdd8d-8f9e-4739-af7b-60d9dda36061",
   "metadata": {},
   "outputs": [],
   "source": [
    "training.to_csv('train_v2.csv')"
   ]
  },
  {
   "cell_type": "code",
   "execution_count": 14,
   "id": "c49bb350-fddf-49fc-8a9a-1e32d8d807e0",
   "metadata": {},
   "outputs": [],
   "source": [
    "training_v2 = pd.read_csv('train_v2.csv', index_col=0)"
   ]
  },
  {
   "cell_type": "code",
   "execution_count": 15,
   "id": "b8ddf937-0bdb-4ac7-8f62-c65e7eee8c8b",
   "metadata": {},
   "outputs": [
    {
     "name": "stdout",
     "output_type": "stream",
     "text": [
      "PassengerGroup\n",
      "HomePlanet\n",
      "CryoSleep\n",
      "Cabin\n",
      "Destination\n",
      "Age\n",
      "VIP\n",
      "RoomService\n",
      "FoodCourt\n",
      "ShoppingMall\n",
      "Spa\n",
      "VRDeck\n",
      "Transported\n"
     ]
    }
   ],
   "source": [
    "for col in training_v2.columns:\n",
    "    print(col)"
   ]
  },
  {
   "cell_type": "code",
   "execution_count": 16,
   "id": "928bd3c4-a9fa-4f66-bfe4-4706b91016d6",
   "metadata": {},
   "outputs": [],
   "source": [
    "missingrows = []\n",
    "for col in training_v2.columns:\n",
    "    for i in range(len(training_v2[col])):\n",
    "        if pd.isnull(training_v2.loc[i, col]):\n",
    "            missingrows.append(i)\n",
    "            \n",
    "missingrows = list(set(missingrows))\n",
    "missingrows.sort()\n",
    "missingrows = missingrows[::-1]"
   ]
  },
  {
   "cell_type": "code",
   "execution_count": 17,
   "id": "0a786366-a23a-4704-a0d2-41175813b63d",
   "metadata": {},
   "outputs": [],
   "source": [
    "for i in missingrows:\n",
    "    training_v2 = training_v2.drop([training_v2.index[i]])"
   ]
  },
  {
   "cell_type": "code",
   "execution_count": 18,
   "id": "48fdf943-ded2-42a8-b16c-0a9500744041",
   "metadata": {},
   "outputs": [],
   "source": [
    "training_v2.to_csv('train_v3.csv')"
   ]
  },
  {
   "cell_type": "code",
   "execution_count": 19,
   "id": "d011f3f7-8eff-4a06-b3cc-db593643cae1",
   "metadata": {},
   "outputs": [],
   "source": [
    "training_v3 = pd.read_csv('train_v3.csv', index_col=0)"
   ]
  },
  {
   "cell_type": "code",
   "execution_count": 20,
   "id": "065e4502-d69a-423e-bfaa-55bf5f47fd87",
   "metadata": {},
   "outputs": [
    {
     "name": "stdout",
     "output_type": "stream",
     "text": [
      "['TRAPPIST-1e', 'PSO J318.5-22', '55 Cancri e']\n"
     ]
    }
   ],
   "source": [
    "destinations = []\n",
    "for row in training_v3[\"Destination\"]:\n",
    "    if row not in destinations:\n",
    "        destinations.append(row)\n",
    "        \n",
    "print(destinations)"
   ]
  },
  {
   "cell_type": "code",
   "execution_count": 21,
   "id": "ed172f9c-1263-4073-b6aa-13025f932f0d",
   "metadata": {},
   "outputs": [
    {
     "name": "stdout",
     "output_type": "stream",
     "text": [
      "      55 Cancri e  PSO J318.5-22  TRAPPIST-1e\n",
      "0               0              0            1\n",
      "1               0              0            1\n",
      "2               0              0            1\n",
      "3               0              0            1\n",
      "4               0              0            1\n",
      "...           ...            ...          ...\n",
      "8688            1              0            0\n",
      "8689            0              1            0\n",
      "8690            0              0            1\n",
      "8691            1              0            0\n",
      "8692            0              0            1\n",
      "\n",
      "[6764 rows x 3 columns]\n"
     ]
    }
   ],
   "source": [
    "destinations = pd.get_dummies(training_v3.Destination)\n",
    "print(destinations)"
   ]
  },
  {
   "cell_type": "code",
   "execution_count": 22,
   "id": "75c164e8-334e-4845-b16d-8e99b5ac1750",
   "metadata": {},
   "outputs": [
    {
     "data": {
      "text/plain": [
       "Index(['PassengerGroup', 'HomePlanet', 'CryoSleep', 'Cabin', 'Age', 'VIP',\n",
       "       'RoomService', 'FoodCourt', 'ShoppingMall', 'Spa', 'VRDeck',\n",
       "       'Transported', '55 Cancri e', 'PSO J318.5-22', 'TRAPPIST-1e'],\n",
       "      dtype='object')"
      ]
     },
     "execution_count": 22,
     "metadata": {},
     "output_type": "execute_result"
    }
   ],
   "source": [
    "training_v4 = pd.concat([training_v3, destinations], axis=1, join='inner')\n",
    "\n",
    "training_v4.columns\n",
    "del training_v4['Destination']\n",
    "training_v4.columns"
   ]
  },
  {
   "cell_type": "code",
   "execution_count": 23,
   "id": "7c119aba-aac7-44c5-8c51-87ca2b1d2955",
   "metadata": {},
   "outputs": [],
   "source": [
    "training_v4.to_csv('train_v4.csv')"
   ]
  },
  {
   "cell_type": "code",
   "execution_count": 24,
   "id": "ab9f152b-4e89-412a-95cd-d30ef2683513",
   "metadata": {},
   "outputs": [
    {
     "data": {
      "text/html": [
       "<div>\n",
       "<style scoped>\n",
       "    .dataframe tbody tr th:only-of-type {\n",
       "        vertical-align: middle;\n",
       "    }\n",
       "\n",
       "    .dataframe tbody tr th {\n",
       "        vertical-align: top;\n",
       "    }\n",
       "\n",
       "    .dataframe thead th {\n",
       "        text-align: right;\n",
       "    }\n",
       "</style>\n",
       "<table border=\"1\" class=\"dataframe\">\n",
       "  <thead>\n",
       "    <tr style=\"text-align: right;\">\n",
       "      <th></th>\n",
       "      <th>Earth</th>\n",
       "      <th>Europa</th>\n",
       "      <th>Mars</th>\n",
       "    </tr>\n",
       "  </thead>\n",
       "  <tbody>\n",
       "    <tr>\n",
       "      <th>0</th>\n",
       "      <td>0</td>\n",
       "      <td>1</td>\n",
       "      <td>0</td>\n",
       "    </tr>\n",
       "    <tr>\n",
       "      <th>1</th>\n",
       "      <td>1</td>\n",
       "      <td>0</td>\n",
       "      <td>0</td>\n",
       "    </tr>\n",
       "    <tr>\n",
       "      <th>2</th>\n",
       "      <td>0</td>\n",
       "      <td>1</td>\n",
       "      <td>0</td>\n",
       "    </tr>\n",
       "    <tr>\n",
       "      <th>3</th>\n",
       "      <td>0</td>\n",
       "      <td>1</td>\n",
       "      <td>0</td>\n",
       "    </tr>\n",
       "    <tr>\n",
       "      <th>4</th>\n",
       "      <td>1</td>\n",
       "      <td>0</td>\n",
       "      <td>0</td>\n",
       "    </tr>\n",
       "    <tr>\n",
       "      <th>...</th>\n",
       "      <td>...</td>\n",
       "      <td>...</td>\n",
       "      <td>...</td>\n",
       "    </tr>\n",
       "    <tr>\n",
       "      <th>8688</th>\n",
       "      <td>0</td>\n",
       "      <td>1</td>\n",
       "      <td>0</td>\n",
       "    </tr>\n",
       "    <tr>\n",
       "      <th>8689</th>\n",
       "      <td>1</td>\n",
       "      <td>0</td>\n",
       "      <td>0</td>\n",
       "    </tr>\n",
       "    <tr>\n",
       "      <th>8690</th>\n",
       "      <td>1</td>\n",
       "      <td>0</td>\n",
       "      <td>0</td>\n",
       "    </tr>\n",
       "    <tr>\n",
       "      <th>8691</th>\n",
       "      <td>0</td>\n",
       "      <td>1</td>\n",
       "      <td>0</td>\n",
       "    </tr>\n",
       "    <tr>\n",
       "      <th>8692</th>\n",
       "      <td>0</td>\n",
       "      <td>1</td>\n",
       "      <td>0</td>\n",
       "    </tr>\n",
       "  </tbody>\n",
       "</table>\n",
       "<p>6764 rows × 3 columns</p>\n",
       "</div>"
      ],
      "text/plain": [
       "      Earth  Europa  Mars\n",
       "0         0       1     0\n",
       "1         1       0     0\n",
       "2         0       1     0\n",
       "3         0       1     0\n",
       "4         1       0     0\n",
       "...     ...     ...   ...\n",
       "8688      0       1     0\n",
       "8689      1       0     0\n",
       "8690      1       0     0\n",
       "8691      0       1     0\n",
       "8692      0       1     0\n",
       "\n",
       "[6764 rows x 3 columns]"
      ]
     },
     "execution_count": 24,
     "metadata": {},
     "output_type": "execute_result"
    }
   ],
   "source": [
    "homeplanets = pd.get_dummies(training_v4.HomePlanet)\n",
    "homeplanets"
   ]
  },
  {
   "cell_type": "code",
   "execution_count": 25,
   "id": "893de35d-f8d3-4a6e-b0e2-d4d78e916bf9",
   "metadata": {},
   "outputs": [
    {
     "data": {
      "text/plain": [
       "Index(['PassengerGroup', 'CryoSleep', 'Cabin', 'Age', 'VIP', 'RoomService',\n",
       "       'FoodCourt', 'ShoppingMall', 'Spa', 'VRDeck', 'Transported',\n",
       "       '55 Cancri e', 'PSO J318.5-22', 'TRAPPIST-1e', 'Earth', 'Europa',\n",
       "       'Mars'],\n",
       "      dtype='object')"
      ]
     },
     "execution_count": 25,
     "metadata": {},
     "output_type": "execute_result"
    }
   ],
   "source": [
    "training_v5 = pd.concat([training_v4, homeplanets], axis=1, join='inner')\n",
    "del training_v5['HomePlanet']\n",
    "training_v5.columns"
   ]
  },
  {
   "cell_type": "code",
   "execution_count": 26,
   "id": "f55fd1a8-9b42-4119-a61e-e1795c6fd7d5",
   "metadata": {},
   "outputs": [],
   "source": [
    "training_v5.to_csv('train_v5.csv')"
   ]
  },
  {
   "cell_type": "code",
   "execution_count": 27,
   "id": "409c16b6-05a6-468c-94e2-8583eaeb69a6",
   "metadata": {},
   "outputs": [
    {
     "data": {
      "text/plain": [
       "0          B/0/P\n",
       "1          F/0/S\n",
       "2          A/0/S\n",
       "3          A/0/S\n",
       "4          F/1/S\n",
       "          ...   \n",
       "8688      A/98/P\n",
       "8689    G/1499/S\n",
       "8690    G/1500/S\n",
       "8691     E/608/S\n",
       "8692     E/608/S\n",
       "Name: Cabin, Length: 6764, dtype: object"
      ]
     },
     "execution_count": 27,
     "metadata": {},
     "output_type": "execute_result"
    }
   ],
   "source": [
    "training_v5['Cabin']"
   ]
  },
  {
   "cell_type": "code",
   "execution_count": 28,
   "id": "1c5fc03f-6834-426b-abfb-ab7aaedbf857",
   "metadata": {},
   "outputs": [],
   "source": [
    "decks = []\n",
    "numbers = []\n",
    "sides = []\n",
    "for row in training_v5['Cabin']:\n",
    "    deck = row[0]\n",
    "    decks.append(deck)\n",
    "    number = int(row[2:-2])\n",
    "    numbers.append(number)\n",
    "    side = row[-1]\n",
    "    sides.append(side)"
   ]
  },
  {
   "cell_type": "code",
   "execution_count": 29,
   "id": "8aadbbd0-0103-4abd-863b-86f0348c19a3",
   "metadata": {},
   "outputs": [],
   "source": [
    "decks_num = []\n",
    "for character in decks:\n",
    "    character = character.lower()\n",
    "    number = ord(character) - 96\n",
    "    decks_num.append(number)"
   ]
  },
  {
   "cell_type": "code",
   "execution_count": 30,
   "id": "c8338bfd-eb53-4467-818c-b04b3d6909b3",
   "metadata": {},
   "outputs": [],
   "source": [
    "for i in range(len(sides)):\n",
    "    if sides[i] == \"P\":\n",
    "        sides[i] = 0\n",
    "    else: sides[i] = 1"
   ]
  },
  {
   "cell_type": "code",
   "execution_count": 31,
   "id": "1fa7d951-2a10-4090-87c8-07b9012c42df",
   "metadata": {},
   "outputs": [],
   "source": [
    "training_v6 = training_v5.assign(cabinsides=sides)\n",
    "training_v6 = training_v6.assign(cabindeck=decks_num)\n",
    "training_v6 = training_v6.assign(cabinnumber=numbers)"
   ]
  },
  {
   "cell_type": "code",
   "execution_count": 32,
   "id": "2230b4d4-4308-489d-8fee-ee994aaed46c",
   "metadata": {},
   "outputs": [],
   "source": [
    "del training_v6['Cabin']\n",
    "\n",
    "training_v6.to_csv('train_v6.csv')"
   ]
  },
  {
   "cell_type": "code",
   "execution_count": 33,
   "id": "148d025e-afcc-4a45-8f11-3bfa67bc4884",
   "metadata": {},
   "outputs": [
    {
     "data": {
      "text/plain": [
       "Index(['PassengerGroup', 'CryoSleep', 'Age', 'VIP', 'RoomService', 'FoodCourt',\n",
       "       'ShoppingMall', 'Spa', 'VRDeck', 'Transported', '55 Cancri e',\n",
       "       'PSO J318.5-22', 'TRAPPIST-1e', 'Earth', 'Europa', 'Mars', 'cabinsides',\n",
       "       'cabindeck', 'cabinnumber'],\n",
       "      dtype='object')"
      ]
     },
     "execution_count": 33,
     "metadata": {},
     "output_type": "execute_result"
    }
   ],
   "source": [
    "training_v6.columns"
   ]
  },
  {
   "cell_type": "code",
   "execution_count": 34,
   "id": "22b5e6e3-c56e-4de4-b5ae-66982d19908a",
   "metadata": {},
   "outputs": [],
   "source": [
    "training_v6.rename(columns = {'55 Cancri e':'Destination: 55 Cancri e'}, inplace = True)\n",
    "training_v6.rename(columns = {'PSO J318.5-22':'Destination: PSO J318.5-22'}, inplace = True)\n",
    "training_v6.rename(columns = {'TRAPPIST-1e':'Destination: TRAPPIST-1e'}, inplace = True)\n",
    "training_v6.rename(columns = {'Earth':'HomePlanet: Earth'}, inplace = True)\n",
    "training_v6.rename(columns = {'Europa':'HomePlanet: Europa'}, inplace = True)\n",
    "training_v6.rename(columns = {'Mars':'HomePlanet: Mars'}, inplace = True)\n",
    "training_v6.rename(columns = {'cabinsides':'CabinSide: Starboard'}, inplace = True)\n",
    "training_v6.rename(columns = {'cabindeck':'CabinDeck'}, inplace = True)\n",
    "training_v6.rename(columns = {'cabinnumber':'CabinNumber'}, inplace = True)"
   ]
  },
  {
   "cell_type": "code",
   "execution_count": 35,
   "id": "5238cad7-400f-465e-88bd-32c0de157095",
   "metadata": {},
   "outputs": [],
   "source": [
    "training_v6.to_csv('train_v7.csv')"
   ]
  },
  {
   "cell_type": "code",
   "execution_count": 36,
   "id": "2b2c6c69-3575-42d3-9cb1-4bda81ac2dae",
   "metadata": {},
   "outputs": [
    {
     "data": {
      "text/plain": [
       "Index(['PassengerGroup', 'CryoSleep', 'Age', 'VIP', 'RoomService', 'FoodCourt',\n",
       "       'ShoppingMall', 'Spa', 'VRDeck', 'Transported',\n",
       "       'Destination: 55 Cancri e', 'Destination: PSO J318.5-22',\n",
       "       'Destination: TRAPPIST-1e', 'HomePlanet: Earth', 'HomePlanet: Europa',\n",
       "       'HomePlanet: Mars', 'CabinSide: Starboard', 'CabinDeck', 'CabinNumber'],\n",
       "      dtype='object')"
      ]
     },
     "execution_count": 36,
     "metadata": {},
     "output_type": "execute_result"
    }
   ],
   "source": [
    "training_v6.columns"
   ]
  },
  {
   "cell_type": "code",
   "execution_count": 37,
   "id": "5b0ba1d8-5c52-4bd6-b201-52331be41ee2",
   "metadata": {},
   "outputs": [],
   "source": [
    "training_v7 = training_v6[['PassengerGroup', 'CryoSleep', 'Age', 'VIP', 'RoomService', 'FoodCourt',\n",
    "       'ShoppingMall', 'Spa', 'VRDeck',\n",
    "       'Destination: 55 Cancri e', 'Destination: PSO J318.5-22',\n",
    "       'Destination: TRAPPIST-1e', 'HomePlanet: Earth', 'HomePlanet: Europa',\n",
    "       'HomePlanet: Mars', 'CabinSide: Starboard', 'CabinDeck', 'CabinNumber', 'Transported']]"
   ]
  },
  {
   "cell_type": "code",
   "execution_count": 38,
   "id": "dc8c297f-b46f-46b0-8fa2-6c4b3aeaea4d",
   "metadata": {},
   "outputs": [],
   "source": [
    "training_v7.to_csv('train_final.csv')"
   ]
  },
  {
   "cell_type": "code",
   "execution_count": null,
   "id": "60dd6e9e-34a0-4d84-ae19-074a634da5e7",
   "metadata": {},
   "outputs": [],
   "source": []
  }
 ],
 "metadata": {
  "kernelspec": {
   "display_name": "Python 3 (ipykernel)",
   "language": "python",
   "name": "python3"
  },
  "language_info": {
   "codemirror_mode": {
    "name": "ipython",
    "version": 3
   },
   "file_extension": ".py",
   "mimetype": "text/x-python",
   "name": "python",
   "nbconvert_exporter": "python",
   "pygments_lexer": "ipython3",
   "version": "3.9.10"
  }
 },
 "nbformat": 4,
 "nbformat_minor": 5
}
